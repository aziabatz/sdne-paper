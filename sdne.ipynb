{
 "cells": [
  {
   "cell_type": "markdown",
   "id": "f917dd307166d8ac",
   "metadata": {
    "collapsed": false,
    "jupyter": {
     "outputs_hidden": false
    }
   },
   "source": [
    "# Structural Deep Network Embedding"
   ]
  },
  {
   "cell_type": "markdown",
   "id": "47742759e6db1a7f",
   "metadata": {
    "collapsed": false,
    "editable": true,
    "jupyter": {
     "outputs_hidden": false
    },
    "slideshow": {
     "slide_type": ""
    },
    "tags": []
   },
   "source": [
    "## El grafo\n",
    "\n",
    "Antes de entrar en la teoría vamos a definir primero los datos con los que vamos a trabajar, y en torno a los cuales gira todo el asunto.\n",
    "\n",
    "Primero un grafo G, no dirigido y no ponderado, para ir empezando. Este grafo tendra un conjunto de vértices V y otro conjunto de aristas E. Pondremos de ejemplo un grafo con 128 vértices.\n"
   ]
  },
  {
   "cell_type": "code",
   "execution_count": 63,
   "id": "91e8c845b6dca157",
   "metadata": {
    "ExecuteTime": {
     "end_time": "2023-12-19T13:07:05.317593Z",
     "start_time": "2023-12-19T13:07:05.295538Z"
    },
    "collapsed": false,
    "jupyter": {
     "outputs_hidden": false
    }
   },
   "outputs": [
    {
     "data": {
      "text/plain": [
       "{(1, 6),\n",
       " (1, 23),\n",
       " (2, 21),\n",
       " (2, 23),\n",
       " (3, 22),\n",
       " (4, 7),\n",
       " (4, 12),\n",
       " (4, 16),\n",
       " (4, 23),\n",
       " (4, 25),\n",
       " (5, 20),\n",
       " (6, 9),\n",
       " (7, 10),\n",
       " (7, 16),\n",
       " (7, 19),\n",
       " (7, 20),\n",
       " (8, 13),\n",
       " (8, 18),\n",
       " (8, 20),\n",
       " (9, 17),\n",
       " (9, 25),\n",
       " (10, 15),\n",
       " (11, 14),\n",
       " (11, 19),\n",
       " (11, 24),\n",
       " (13, 18),\n",
       " (14, 21),\n",
       " (15, 21),\n",
       " (15, 22),\n",
       " (16, 22),\n",
       " (17, 25),\n",
       " (19, 20),\n",
       " (21, 22),\n",
       " (21, 24)}"
      ]
     },
     "execution_count": 63,
     "metadata": {},
     "output_type": "execute_result"
    }
   ],
   "source": [
    "import numpy as np\n",
    "import math\n",
    "import latexify\n",
    "import networkx as nx\n",
    "import matplotlib.pyplot as plt\n",
    "\n",
    "np.random.seed(0b101010101010)\n",
    "\n",
    "total_vertices = 25\n",
    "matriz_adyacencia = np.zeros((total_vertices, total_vertices), dtype=int)\n",
    "\n",
    "vertices = np.arange(1,total_vertices+1)\n",
    "\n",
    "for vertice in range(1, total_vertices + 1):\n",
    "    # Hasta 2 vecinos. Excluimos el 0 para evitar bucles sobre el mismo vértice\n",
    "    num_vecinos = np.random.randint(1, 3)\n",
    "    # Muestra de vecinos aleatorios (con el resto de nodos) sin repeticion\n",
    "    vecinos = np.random.choice([i for i in range(1, total_vertices+1) if i != vertice], num_vecinos, replace=False)\n",
    "    \n",
    "    for vecino in vecinos:\n",
    "        matriz_adyacencia[vertice - 1, vecino - 1] = 1\n",
    "        # quitar para probar con grafos dirigidos\n",
    "        matriz_adyacencia[vecino - 1, vertice - 1] = 1\n",
    "    \n",
    "aristas = set()\n",
    "for i in range(total_vertices):\n",
    "    for j in range(i+1, total_vertices):\n",
    "        if matriz_adyacencia[i,j] == 1:\n",
    "            aristas.add((i+1, j+1))\n",
    "\n",
    "@latexify.expression\n",
    "def get_aristas(aristas):\n",
    "    return aristas\n",
    "\n",
    "get_aristas(aristas)"
   ]
  },
  {
   "cell_type": "code",
   "execution_count": 64,
   "id": "65a5feaedcf8d5e7",
   "metadata": {
    "ExecuteTime": {
     "end_time": "2023-12-19T13:07:06.821468Z",
     "start_time": "2023-12-19T13:07:06.806153Z"
    },
    "collapsed": false,
    "jupyter": {
     "outputs_hidden": false
    }
   },
   "outputs": [
    {
     "data": {
      "text/plain": [
       "{'edges': {(1, 6),\n",
       "  (1, 23),\n",
       "  (2, 21),\n",
       "  (2, 23),\n",
       "  (3, 22),\n",
       "  (4, 7),\n",
       "  (4, 12),\n",
       "  (4, 16),\n",
       "  (4, 23),\n",
       "  (4, 25),\n",
       "  (5, 20),\n",
       "  (6, 9),\n",
       "  (7, 10),\n",
       "  (7, 16),\n",
       "  (7, 19),\n",
       "  (7, 20),\n",
       "  (8, 13),\n",
       "  (8, 18),\n",
       "  (8, 20),\n",
       "  (9, 17),\n",
       "  (9, 25),\n",
       "  (10, 15),\n",
       "  (11, 14),\n",
       "  (11, 19),\n",
       "  (11, 24),\n",
       "  (13, 18),\n",
       "  (14, 21),\n",
       "  (15, 21),\n",
       "  (15, 22),\n",
       "  (16, 22),\n",
       "  (17, 25),\n",
       "  (19, 20),\n",
       "  (21, 22),\n",
       "  (21, 24)},\n",
       " 'vertex': array([ 1,  2,  3,  4,  5,  6,  7,  8,  9, 10, 11, 12, 13, 14, 15, 16, 17,\n",
       "        18, 19, 20, 21, 22, 23, 24, 25]),\n",
       " 'adjacency': array([[0, 0, 0, 0, 0, 1, 0, 0, 0, 0, 0, 0, 0, 0, 0, 0, 0, 0, 0, 0, 0, 0,\n",
       "         1, 0, 0],\n",
       "        [0, 0, 0, 0, 0, 0, 0, 0, 0, 0, 0, 0, 0, 0, 0, 0, 0, 0, 0, 0, 1, 0,\n",
       "         1, 0, 0],\n",
       "        [0, 0, 0, 0, 0, 0, 0, 0, 0, 0, 0, 0, 0, 0, 0, 0, 0, 0, 0, 0, 0, 1,\n",
       "         0, 0, 0],\n",
       "        [0, 0, 0, 0, 0, 0, 1, 0, 0, 0, 0, 1, 0, 0, 0, 1, 0, 0, 0, 0, 0, 0,\n",
       "         1, 0, 1],\n",
       "        [0, 0, 0, 0, 0, 0, 0, 0, 0, 0, 0, 0, 0, 0, 0, 0, 0, 0, 0, 1, 0, 0,\n",
       "         0, 0, 0],\n",
       "        [1, 0, 0, 0, 0, 0, 0, 0, 1, 0, 0, 0, 0, 0, 0, 0, 0, 0, 0, 0, 0, 0,\n",
       "         0, 0, 0],\n",
       "        [0, 0, 0, 1, 0, 0, 0, 0, 0, 1, 0, 0, 0, 0, 0, 1, 0, 0, 1, 1, 0, 0,\n",
       "         0, 0, 0],\n",
       "        [0, 0, 0, 0, 0, 0, 0, 0, 0, 0, 0, 0, 1, 0, 0, 0, 0, 1, 0, 1, 0, 0,\n",
       "         0, 0, 0],\n",
       "        [0, 0, 0, 0, 0, 1, 0, 0, 0, 0, 0, 0, 0, 0, 0, 0, 1, 0, 0, 0, 0, 0,\n",
       "         0, 0, 1],\n",
       "        [0, 0, 0, 0, 0, 0, 1, 0, 0, 0, 0, 0, 0, 0, 1, 0, 0, 0, 0, 0, 0, 0,\n",
       "         0, 0, 0],\n",
       "        [0, 0, 0, 0, 0, 0, 0, 0, 0, 0, 0, 0, 0, 1, 0, 0, 0, 0, 1, 0, 0, 0,\n",
       "         0, 1, 0],\n",
       "        [0, 0, 0, 1, 0, 0, 0, 0, 0, 0, 0, 0, 0, 0, 0, 0, 0, 0, 0, 0, 0, 0,\n",
       "         0, 0, 0],\n",
       "        [0, 0, 0, 0, 0, 0, 0, 1, 0, 0, 0, 0, 0, 0, 0, 0, 0, 1, 0, 0, 0, 0,\n",
       "         0, 0, 0],\n",
       "        [0, 0, 0, 0, 0, 0, 0, 0, 0, 0, 1, 0, 0, 0, 0, 0, 0, 0, 0, 0, 1, 0,\n",
       "         0, 0, 0],\n",
       "        [0, 0, 0, 0, 0, 0, 0, 0, 0, 1, 0, 0, 0, 0, 0, 0, 0, 0, 0, 0, 1, 1,\n",
       "         0, 0, 0],\n",
       "        [0, 0, 0, 1, 0, 0, 1, 0, 0, 0, 0, 0, 0, 0, 0, 0, 0, 0, 0, 0, 0, 1,\n",
       "         0, 0, 0],\n",
       "        [0, 0, 0, 0, 0, 0, 0, 0, 1, 0, 0, 0, 0, 0, 0, 0, 0, 0, 0, 0, 0, 0,\n",
       "         0, 0, 1],\n",
       "        [0, 0, 0, 0, 0, 0, 0, 1, 0, 0, 0, 0, 1, 0, 0, 0, 0, 0, 0, 0, 0, 0,\n",
       "         0, 0, 0],\n",
       "        [0, 0, 0, 0, 0, 0, 1, 0, 0, 0, 1, 0, 0, 0, 0, 0, 0, 0, 0, 1, 0, 0,\n",
       "         0, 0, 0],\n",
       "        [0, 0, 0, 0, 1, 0, 1, 1, 0, 0, 0, 0, 0, 0, 0, 0, 0, 0, 1, 0, 0, 0,\n",
       "         0, 0, 0],\n",
       "        [0, 1, 0, 0, 0, 0, 0, 0, 0, 0, 0, 0, 0, 1, 1, 0, 0, 0, 0, 0, 0, 1,\n",
       "         0, 1, 0],\n",
       "        [0, 0, 1, 0, 0, 0, 0, 0, 0, 0, 0, 0, 0, 0, 1, 1, 0, 0, 0, 0, 1, 0,\n",
       "         0, 0, 0],\n",
       "        [1, 1, 0, 1, 0, 0, 0, 0, 0, 0, 0, 0, 0, 0, 0, 0, 0, 0, 0, 0, 0, 0,\n",
       "         0, 0, 0],\n",
       "        [0, 0, 0, 0, 0, 0, 0, 0, 0, 0, 1, 0, 0, 0, 0, 0, 0, 0, 0, 0, 1, 0,\n",
       "         0, 0, 0],\n",
       "        [0, 0, 0, 1, 0, 0, 0, 0, 1, 0, 0, 0, 0, 0, 0, 0, 1, 0, 0, 0, 0, 0,\n",
       "         0, 0, 0]])}"
      ]
     },
     "execution_count": 64,
     "metadata": {},
     "output_type": "execute_result"
    }
   ],
   "source": [
    "E = aristas\n",
    "V = vertices\n",
    "adj = matriz_adyacencia\n",
    "\n",
    "G = {\n",
    "    \"edges\": E,\n",
    "    \"vertex\": V,\n",
    "    \"adjacency\": adj\n",
    "}\n",
    "\n",
    "G"
   ]
  },
  {
   "cell_type": "markdown",
   "id": "a849b394561a555e",
   "metadata": {
    "collapsed": false,
    "jupyter": {
     "outputs_hidden": false
    }
   },
   "source": [
    "Su representación descriptiva:\n",
    "\n",
    "\n",
    "$$G = (V, E)$$\n",
    "\n",
    "$$V = \\begin{align*}\n",
    "\\{&v_{1}, v_{2}, v_{3}, v_{4}, v_{5}, v_{6}, v_{7}, v_{8}, v_{9}, v_{10}, \\\\\n",
    "&v_{11}, v_{12}, v_{13}, v_{14}, v_{15}, v_{16}, v_{17}, \\\\\n",
    "&v_{18}, v_{19}, v_{20}, v_{21}, v_{22}, v_{23}, v_{24}, v_{25}\\}\n",
    "\\end{align*}$$\n",
    "\n",
    "$$E = \\begin{align*}\n",
    "\\{&(v_{1}, v_{6}), (v_{1}, v_{23}), (v_{2}, v_{21}), (v_{2}, v_{23}), (v_{3}, v_{22}), \\\\\n",
    "&(v_{4}, v_{7}), (v_{4}, v_{12}), (v_{4}, v_{16}), (v_{4}, v_{23}), (v_{4}, v_{25}), \\\\\n",
    "&(v_{5}, v_{20}), (v_{6}, v_{9}), (v_{7}, v_{10}), (v_{7}, v_{16}), (v_{7}, v_{19}), \\\\\n",
    "&(v_{7}, v_{20}), (v_{8}, v_{13}), (v_{8}, v_{18}), (v_{8}, v_{20}), (v_{9}, v_{17}), \\\\\n",
    "&(v_{9}, v_{25}), (v_{10}, v_{15}), (v_{11}, v_{14}), (v_{11}, v_{19}), (v_{11}, v_{24}), \\\\\n",
    "&(v_{13}, v_{18}), (v_{14}, v_{21}), (v_{15}, v_{21}), (v_{15}, v_{22}), (v_{16}, v_{22}), \\\\\n",
    "&(v_{17}, v_{25}), (v_{19}, v_{20}), (v_{21}, v_{22}), (v_{21}, v_{24})\\}\n",
    "\\end{align*}$$\n",
    "\n",
    "\n",
    "Gráficamente es como sigue:"
   ]
  },
  {
   "cell_type": "code",
   "execution_count": 65,
   "id": "a73d731cb6ba39a5",
   "metadata": {
    "ExecuteTime": {
     "end_time": "2023-12-19T13:07:07.524452Z",
     "start_time": "2023-12-19T13:07:07.311211Z"
    },
    "collapsed": false,
    "jupyter": {
     "outputs_hidden": false
    }
   },
   "outputs": [
    {
     "data": {
      "image/png": "[encoded data removed]",
      "text/plain": [
       "<Figure size 500x500 with 1 Axes>"
      ]
     },
     "metadata": {},
     "output_type": "display_data"
    }
   ],
   "source": [
    "G_nx = nx.Graph()\n",
    "G_nx.add_edges_from(G.get(\"edges\"))\n",
    "plt.figure(figsize=(5,5))\n",
    "pos = nx.kamada_kawai_layout(G_nx, scale=0.2)\n",
    "nx.draw(G_nx, pos=pos, with_labels=True, node_color='lightblue', node_size=500, font_size=10, font_weight='bold', edge_color='gray')\n",
    "plt.show()"
   ]
  },
  {
   "cell_type": "markdown",
   "id": "47c5cb8556a317f3",
   "metadata": {
    "collapsed": false,
    "jupyter": {
     "outputs_hidden": false
    }
   },
   "source": [
    "## Órdenes de un grafo\n",
    "\n",
    "Ahora que ya tenemos definido el grafo con el que vamos a trabajar, podemos ir a por el siguiente paso.\n",
    "La red SDNE se basa en un concepto muy importante de la teoría de grafos, que son las proximidades de un vértice.\n",
    "SDNE toma las siguientes proximidades para incrustar el grafo y mantener su estructura:\n",
    "* Proximidad de primer orden\n",
    "* Proximidad de segundo orden\n",
    "\n",
    "Estas proximidades son en realidad vectores que describen si un par de vértices de un grafo son o no vecinos, es decir, si están conectados mediante una arista).\n",
    "\n",
    "La proximidad de primer orden entre dos vértices $(v_{i}, v_{j})$ indica si hay una conexión directa entre ambos vértices. Tomemos por ejemplo el nodo $v_3$ del grafo, su vector de proximidad de primer orden será la fila (o columna) de la matriz de adyacencia que relaciona ese nodo con los demás. En el caso de la proximidad de primer orden entre el nodo 3 y el nodo 22, tendremos que $(v_{3}, v_{22}) = 1$.\n",
    "\n",
    "La proximidad de segundo orden describe cómo de similares son dos vértices basándose en los vectores de proximidad de 1er orden de dichos vértices. Vamos a explicar esto con un ejemplo. Tomemos los vectores de proximidad de los vectores $v_23$ y $v_21$, denotados por $N_3$ y $N_21$. Sus vectores de proximidad de primer orden son los siguientes:\n",
    "\n",
    "$$\n",
    "\\begin{align*}\n",
    "&N_3 =  \\{0,0,0,0,0,0,0,0,0,0,0,0,0,0,0,0,0,0,0,0,0,1,0,0,0,\\} \\\\\n",
    "&N_{21} = \\{0,1,0,0,0,0,0,0,0,0,0,0,0,1,1,0,0,0,0,0,0,1,0,1,0,\\}\n",
    "\\end{align*}\n",
    "$$\n",
    "\n",
    "La proximidad de segundo orden queda reducida a la similaridad de estos dos vectores. Observamos, en este caso, que ambos vértices comparten como vecino el vértice 22. Quizás una manera de obtener la proximidad de segund orden como un único vector sea la intersección de ambos vectores, de manera que $N_{3,21} = N_3 \\cap N_{21} = \\{0,0,0,0,0,0,0,0,0,0,0,0,0,0,0,0,0,0,0,0,0,1,0,0,0,\\}$\n"
   ]
  },
  {
   "cell_type": "markdown",
   "id": "69fd89c1d29e9cd3",
   "metadata": {
    "collapsed": false,
    "jupyter": {
     "outputs_hidden": false
    }
   },
   "source": [
    "## El problema\n",
    "\n",
    "Lo que SDNE intenta solucionar es __APRENDER__ una función de incrustación $f$ (_embedding_) para representar un grafo $G$ en un espacio con baja dimensionalidad, de tal forma que:\n",
    "$$\n",
    "f: v_i \\mapsto y_i \\in {R^d}\n",
    "$$\n",
    "\n",
    "Donde $v_i \\mapsto y_i$ es el mapeo de cada vértice a un vector de longitud $d$. Y siendo $d$ menor que el número de vértices: $d \\ll |V|$\n",
    "\n",
    "Como se explica en el _paper_, el objetivo es conseguir que la similaridad de los vectores reducidos de cada par de vértices ($y_i,y_j$) mantenga las proximidades de primer y segundo orden entre dichos vértices ($v_i,v_j$)"
   ]
  },
  {
   "cell_type": "markdown",
   "id": "266520bc717d8b40",
   "metadata": {
    "collapsed": false,
    "jupyter": {
     "outputs_hidden": false
    }
   },
   "source": [
    "## La red\n",
    "\n",
    "Ya hemos explicado las bases. Ahora vamos con la red en sí.\n",
    "\n",
    "Como muchas redes neuronales de grafos (GNN), y más en específico en el ámbito de la incrustación de grafos, la red SDNE tiene un autoencoder (encoder+decoder).\n",
    "\n",
    "El _encoder_ está formado por varias capas, cuyas funciones son lineales. La función de cada capa del _encoder_ se describe de la siguiente forma:\n",
    "\n",
    "$$\n",
    "\\begin{align}\n",
    "&y^{(1)}_i = \\sigma(W^{(1)} x_i + b^{(1)})\\\\\n",
    "&y^{(k)}_i = \\sigma(W^{(k)} y^{(k-1)}_i + b^{(k)})\n",
    "\\end{align}\n",
    "$$\n",
    "\n",
    "Siendo $k$ la capa actual, $W$ los pesos de la capa $k$, y $b$ el sesgo, ambos como parámetros de aprendizaje. La función lineal $y=W·x+b$ pasa a su vez por una función sigmoidea como función de activación para la red, $\\sigma(y) = \\frac{1}{1+exp(-y)}$\n"
   ]
  },
  {
   "cell_type": "markdown",
   "id": "f8340723",
   "metadata": {},
   "source": [
    "Si tenemos $K$ capas en el encoder, el resultado de la capa de salida será $y^{(K)}_i$. Si realizamos los cálculos inversos del encoder, haciendo uso de un decoder, podremos reconstruir (de forma aproximada) la entrada, a la que llamaremos $\\hat{x_i}$. Para ayudar a disipar la confusión, a partir de ahora, cualquier símbolo o parámetro representado con ^ es el equivalente en el decoder."
   ]
  },
  {
   "cell_type": "markdown",
   "id": "c1c4ec3b",
   "metadata": {},
   "source": [
    "Ahora, con las salidas del decoder y del encoder por igual, podemos la función de pérdida del _autoencoder_ como un conjunto. La función de pérdida se define como:\n",
    "\n",
    "$$\n",
    "\\mathcal{L} = \\sum_{i=1}^{n} ||\\hat{x_i} - x_i ||^2_2\n",
    "$$\n",
    "\n",
    "Dicho de otra forma, es el sumatorio de todas las salidas del autoencoder (grafo embebido y luego reconstruido) en forma de norma euclídea. Simplemente el cuadrado del error entre el valor predicho por la red del autoencoder $\\hat{x_i}$ y el valor real $x_i$. En estadística y en la literatura del aprendizaje automático se conoce como error cuadrático medio, donde se usa frecuentemente."
   ]
  },
  {
   "cell_type": "markdown",
   "id": "9253d661",
   "metadata": {},
   "source": [
    "Pero hay un problema, que los grafos al ser generalmente dispersos, el _autoencoder_ representará mejor la ausencia de conexión entre dos vértices que la conexión entre estos. Para paliar esto, en SDNE, la función de pérdida es una modificación de la primera que incluye el producto de Hadamard de matrices. Antes de seguir quiero indicar que este producto es simplemente la multiplicación de cada elemento de una matriz por otra, ambas con las mismas dimensiones, y donde el producto es una matriz con las mismas dimensiones que las primeras. Esta operación se representa por el símbolo $\\odot$"
   ]
  },
  {
   "cell_type": "code",
   "execution_count": null,
   "id": "bae7c7c4c4ccca61",
   "metadata": {
    "ExecuteTime": {
     "end_time": "2023-12-19T17:21:23.218224Z",
     "start_time": "2023-12-19T17:21:23.212287Z"
    },
    "collapsed": false,
    "jupyter": {
     "outputs_hidden": false
    }
   },
   "outputs": [],
   "source": []
  },
  {
   "cell_type": "code",
   "execution_count": null,
   "id": "a3709e3a8a2cdda5",
   "metadata": {
    "collapsed": false,
    "jupyter": {
     "outputs_hidden": false
    }
   },
   "outputs": [],
   "source": []
  }
 ],
 "metadata": {
  "kernelspec": {
   "display_name": "Python 3 (ipykernel)",
   "language": "python",
   "name": "python3"
  },
  "language_info": {
   "codemirror_mode": {
    "name": "ipython",
    "version": 3
   },
   "file_extension": ".py",
   "mimetype": "text/x-python",
   "name": "python",
   "nbconvert_exporter": "python",
   "pygments_lexer": "ipython3",
   "version": "3.11.6"
  }
 },
 "nbformat": 4,
 "nbformat_minor": 5
}
